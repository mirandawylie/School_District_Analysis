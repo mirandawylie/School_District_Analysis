{
 "cells": [
  {
   "cell_type": "code",
   "execution_count": null,
   "metadata": {},
   "outputs": [],
   "source": [
    "# Add the Pandas dependency.\n",
    "import pandas as pd\n",
    "import os"
   ]
  },
  {
   "cell_type": "code",
   "execution_count": null,
   "metadata": {},
   "outputs": [],
   "source": [
    "# Files to load\n",
    "student_data_to_load = os.path.join(\"resources\", \"students_complete.csv\")"
   ]
  },
  {
   "cell_type": "code",
   "execution_count": null,
   "metadata": {
    "scrolled": true
   },
   "outputs": [],
   "source": [
    "# Read the student data file and store it in a Pandas DataFrame.\n",
    "student_data_df = pd.read_csv(student_data_to_load)\n",
    "student_data_df.head()"
   ]
  },
  {
   "cell_type": "code",
   "execution_count": null,
   "metadata": {},
   "outputs": [],
   "source": [
    "# Put the student names in a list.\n",
    "student_names = student_data_df[\"student_name\"].tolist()\n",
    "student_names"
   ]
  },
  {
   "cell_type": "code",
   "execution_count": null,
   "metadata": {},
   "outputs": [],
   "source": [
    "# Split the student name and determine the length of the split name.\n",
    "for name in student_names:\n",
    "    print(name.split(), len(name.split()))"
   ]
  },
  {
   "cell_type": "code",
   "execution_count": null,
   "metadata": {},
   "outputs": [],
   "source": [
    "# Create a new list and use it for the for loop to iterate through the list.\n",
    "students_to_fix = []\n",
    "\n",
    "# Use an if statement to check the length of the name.\n",
    "# If the name is greater than or equal to \"3\", add the name to the list.\n",
    "\n",
    "for name in student_names:\n",
    "    if len(name.split()) >= 3:\n",
    "        students_to_fix.append(name)\n",
    "\n",
    "# Get the length of the students whose names are greater than or equal to \"3\".\n",
    "len(students_to_fix)"
   ]
  },
  {
   "cell_type": "code",
   "execution_count": null,
   "metadata": {},
   "outputs": [],
   "source": [
    "# Add the prefixes less than or equal to 4 to a new list.\n",
    "prefixes = []\n",
    "for name in students_to_fix:\n",
    "    if len(name.split()[0]) <= 4:\n",
    "        prefixes.append(name.split()[0])\n",
    "\n",
    "print(prefixes)"
   ]
  },
  {
   "cell_type": "code",
   "execution_count": null,
   "metadata": {},
   "outputs": [],
   "source": [
    "# Add the suffixes less than or equal to 3 to a new list.\n",
    "suffixes = []\n",
    "for name in students_to_fix:\n",
    "    if len(name.split()[-1]) <= 3:\n",
    "        suffixes.append(name.split()[-1])\n",
    "\n",
    "print(suffixes)"
   ]
  },
  {
   "cell_type": "code",
   "execution_count": null,
   "metadata": {},
   "outputs": [],
   "source": [
    "# Get the unique items in the \"prefixes\" list.\n",
    "set(prefixes)"
   ]
  },
  {
   "cell_type": "code",
   "execution_count": null,
   "metadata": {},
   "outputs": [],
   "source": [
    "# Get the unique items in the \"suffixes\" list.\n",
    "set(suffixes)"
   ]
  },
  {
   "cell_type": "code",
   "execution_count": null,
   "metadata": {},
   "outputs": [],
   "source": [
    "# Add each prefix and suffix to remove to a list.\n",
    "prefixes_suffixes = [\"Dr. \", \"Mr. \",\"Ms. \", \"Mrs. \", \"Miss \", \" MD\", \" DDS\", \" DVM\", \" PhD\"]"
   ]
  },
  {
   "cell_type": "code",
   "execution_count": null,
   "metadata": {},
   "outputs": [],
   "source": [
    "# Iterate through the \"prefixes_suffixes\" list and replace them with an empty space, \"\" when it appears in the student's name.\n",
    "for word in prefixes_suffixes:\n",
    "    student_data_df[\"student_name\"] = student_data_df[\"student_name\"].str.replace(word,\"\")"
   ]
  },
  {
   "cell_type": "code",
   "execution_count": 35,
   "metadata": {},
   "outputs": [
    {
     "data": {
      "text/html": [
       "<div>\n",
       "<style scoped>\n",
       "    .dataframe tbody tr th:only-of-type {\n",
       "        vertical-align: middle;\n",
       "    }\n",
       "\n",
       "    .dataframe tbody tr th {\n",
       "        vertical-align: top;\n",
       "    }\n",
       "\n",
       "    .dataframe thead th {\n",
       "        text-align: right;\n",
       "    }\n",
       "</style>\n",
       "<table border=\"1\" class=\"dataframe\">\n",
       "  <thead>\n",
       "    <tr style=\"text-align: right;\">\n",
       "      <th></th>\n",
       "      <th>Student ID</th>\n",
       "      <th>student_name</th>\n",
       "      <th>gender</th>\n",
       "      <th>grade</th>\n",
       "      <th>school_name</th>\n",
       "      <th>reading_score</th>\n",
       "      <th>math_score</th>\n",
       "    </tr>\n",
       "  </thead>\n",
       "  <tbody>\n",
       "    <tr>\n",
       "      <th>0</th>\n",
       "      <td>0</td>\n",
       "      <td>Paul Bradley</td>\n",
       "      <td>M</td>\n",
       "      <td>9th</td>\n",
       "      <td>Huang High School</td>\n",
       "      <td>66</td>\n",
       "      <td>79</td>\n",
       "    </tr>\n",
       "    <tr>\n",
       "      <th>1</th>\n",
       "      <td>1</td>\n",
       "      <td>Victor Smith</td>\n",
       "      <td>M</td>\n",
       "      <td>12th</td>\n",
       "      <td>Huang High School</td>\n",
       "      <td>94</td>\n",
       "      <td>61</td>\n",
       "    </tr>\n",
       "    <tr>\n",
       "      <th>2</th>\n",
       "      <td>2</td>\n",
       "      <td>Kevin Rodriguez</td>\n",
       "      <td>M</td>\n",
       "      <td>12th</td>\n",
       "      <td>Huang High School</td>\n",
       "      <td>90</td>\n",
       "      <td>60</td>\n",
       "    </tr>\n",
       "    <tr>\n",
       "      <th>3</th>\n",
       "      <td>3</td>\n",
       "      <td>Richard Scott</td>\n",
       "      <td>M</td>\n",
       "      <td>12th</td>\n",
       "      <td>Huang High School</td>\n",
       "      <td>67</td>\n",
       "      <td>58</td>\n",
       "    </tr>\n",
       "    <tr>\n",
       "      <th>4</th>\n",
       "      <td>4</td>\n",
       "      <td>Bonnie Ray</td>\n",
       "      <td>F</td>\n",
       "      <td>9th</td>\n",
       "      <td>Huang High School</td>\n",
       "      <td>97</td>\n",
       "      <td>84</td>\n",
       "    </tr>\n",
       "  </tbody>\n",
       "</table>\n",
       "</div>"
      ],
      "text/plain": [
       "   Student ID     student_name gender grade        school_name  reading_score  \\\n",
       "0           0     Paul Bradley      M   9th  Huang High School             66   \n",
       "1           1     Victor Smith      M  12th  Huang High School             94   \n",
       "2           2  Kevin Rodriguez      M  12th  Huang High School             90   \n",
       "3           3    Richard Scott      M  12th  Huang High School             67   \n",
       "4           4       Bonnie Ray      F   9th  Huang High School             97   \n",
       "\n",
       "   math_score  \n",
       "0          79  \n",
       "1          61  \n",
       "2          60  \n",
       "3          58  \n",
       "4          84  "
      ]
     },
     "execution_count": 35,
     "metadata": {},
     "output_type": "execute_result"
    }
   ],
   "source": [
    "student_data_df.head()"
   ]
  },
  {
   "cell_type": "code",
   "execution_count": null,
   "metadata": {},
   "outputs": [],
   "source": [
    "# Put the cleaned students' names in another list.\n",
    "student_names = student_data_df[\"student_name\"].tolist()\n",
    "student_names"
   ]
  },
  {
   "cell_type": "code",
   "execution_count": null,
   "metadata": {},
   "outputs": [],
   "source": [
    "# Create a new list and use it for the for loop to iterate through the list.\n",
    "students_fixed = []\n",
    "\n",
    "# Use an if statement to check the length of the name.\n",
    "\n",
    "# If the name is greater than or equal to 3, add the name to the list.\n",
    "\n",
    "for name in student_names:\n",
    "    if len(name.split()) >= 3:\n",
    "        students_fixed.append(name)\n",
    "\n",
    "# Get the length of the students' names that are greater than or equal to 3.\n",
    "len(students_fixed)"
   ]
  },
  {
   "cell_type": "code",
   "execution_count": 34,
   "metadata": {},
   "outputs": [
    {
     "name": "stdout",
     "output_type": "stream",
     "text": [
      "['Joseph Morales III', 'Xavier Bell II', 'David Miller Jr.', 'Reginald Garcia IV', 'Kevin Brown IV', 'William Washington Jr.', 'Juan Bryant II', 'Kenneth Paul Jr.', 'Scott Rivers III', 'Mark Myers Jr.', 'Michael Norton Jr.', 'Sean Pena Jr.', 'Cody Mueller Jr.', 'Mathew White Jr.', 'Jason Daugherty Jr.', 'Leonard Webster II', 'Michael Stein Jr.', 'Ryan Phillips Jr.', 'Allen Snyder Jr.', 'Calvin Williams Jr.', 'Ronald Torres Jr.', 'Gabriel Smith III', 'Brian Pitts Jr.', 'Bruce Thompson II', 'Jeremy Sanders II', 'Austin Johnson II', 'Bryan Conway Jr.', 'Ronald Moore II', 'Robert Garrison IV', 'William Gonzalez Jr.', 'Brian Matthews Jr.', 'Eric Richards Jr.', 'Kenneth Munoz Jr.', 'Jon Delgado Jr.', 'Andrew English Jr.', 'Raymond Cox Jr.', 'Jeffrey Mcclain Jr.', 'Brian Poole V', 'Jeffrey Kim II', 'Matthew Alexander Jr.', 'Kevin Reynolds Jr.', 'Jacob Skinner Jr.', 'Dennis Gibson Jr.', 'Jimmy Shea Jr.', 'James Reed Jr.', 'Jeffery Baker Jr.', 'Derrick Hughes III', 'Joshua Rivera Jr.', 'Timothy Guzman Jr.', 'Lonnie Allen II', 'Tyrone Clark III', 'Jeffrey Nelson Jr.', 'Michael Mann II', 'David Johnson Jr.', 'Timothy Chavez Jr.', 'Brian Powell III', 'Lance Rangel Jr.', 'Noah Herrera Jr.', 'Eric Johnson Jr.', 'Victor Chavez II', 'Richard Ellis Jr.', 'Charles Goodman Jr.', 'Michael Singh Jr.', 'Jonathan Smith Jr.', 'Allen Morris Jr.', 'Aaron Solis Jr.', 'Daniel Mckinney Jr.', 'Christopher Petty Jr.', 'Michael Garcia Jr.', 'Charles Short II', 'Derek Barker Jr.', 'Zachary Garrett III', 'Thomas Harrison Jr.', 'Andrew Mitchell V', 'Aaron Davis Jr.', 'Brian Bailey Jr.', 'Jeremiah Morris IV', 'David Morales Jr.', 'Larry Chandler Jr.', 'James Clark II', 'Cameron Roman Jr.', 'Christopher Smith Jr.', 'Todd Grant Jr.', 'Kenneth Avila Jr.', 'Jason Lopez Jr.', 'Dwayne Mathis Jr.', 'Colton Collins II', 'Chris Palmer III', 'Tyler Randall Jr.', 'Joseph Morgan IV', 'Carlos Adkins Jr.', 'Mark Livingston Jr.', 'Michael Williams III', 'Eric Evans III', 'Christopher Thornton Jr.', 'Adam Hayes III', 'Michael Moore Jr.', 'Joseph Hudson II', 'William Brooks Jr.', 'Daniel Welch II', 'Roger Horton Jr.', 'Cory Marshall II', 'Joshua Thompson Jr.', 'Jon Flores II', 'Philip Jones Jr.', 'Greg Joyce Jr.', 'Thomas Frye Jr.', 'Joseph Marquez Jr.', 'Robert Smith Jr.', 'David Beck Jr.', 'Ryan Gomez II', 'Erik Smith Jr.', 'Omar Thompson Jr.', 'Leonard Roberts Jr.', 'Duane Li Jr.', 'Richard Lucero Jr.', 'Seth Medina Jr.', 'Anthony Carlson Jr.', 'Edward Dudley II', 'Matthew Lewis Jr.', 'Christopher Bowers Jr.', 'Timothy Hughes Jr.', 'Kevin Hoover IV', 'David Butler Jr.', 'Michael Wilson Jr.', 'George Hess Jr.', 'Kevin Briggs Jr.', 'Joseph Matthews III', 'Dylan Bailey Jr.', 'Anthony Woods Jr.', 'Michael Harris Jr.', 'Daniel Diaz Jr.', 'Taylor Thompson Jr.', 'Daniel Robinson Jr.', 'Ronald Phelps Jr.', 'Jonathan Reid II', 'Joshua Smith Jr.', 'Joseph Herrera III', 'Tony Robertson II', 'James Fowler III', 'William Wright II', 'Thomas Carrillo II', 'Matthew Bennett Jr.', 'Mark Lucas IV', 'Keith Newman Jr.', 'Matthew Mitchell III', 'Colin Schultz II', 'Terry Scott Jr.', 'Jason Patel Jr.', 'Steven Lewis Jr.', 'Lucas Williams Jr.']\n"
     ]
    }
   ],
   "source": [
    "print(students_fixed)"
   ]
  },
  {
   "cell_type": "code",
   "execution_count": null,
   "metadata": {},
   "outputs": [],
   "source": []
  },
  {
   "cell_type": "code",
   "execution_count": null,
   "metadata": {},
   "outputs": [],
   "source": []
  }
 ],
 "metadata": {
  "kernelspec": {
   "display_name": "PythonData",
   "language": "python",
   "name": "pythondata"
  },
  "language_info": {
   "codemirror_mode": {
    "name": "ipython",
    "version": 3
   },
   "file_extension": ".py",
   "mimetype": "text/x-python",
   "name": "python",
   "nbconvert_exporter": "python",
   "pygments_lexer": "ipython3",
   "version": "3.7.9"
  }
 },
 "nbformat": 4,
 "nbformat_minor": 4
}
